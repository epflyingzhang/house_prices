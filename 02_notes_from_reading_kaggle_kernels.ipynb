{
 "cells": [
  {
   "cell_type": "markdown",
   "metadata": {},
   "source": [
    "## Notes from Kaggle notebooks\n",
    "\n",
    "\n",
    "### References:\n",
    "- [House prices: Lasso, XGBoost, and a detailed EDA](https://www.kaggle.com/erikbruin/house-prices-lasso-xgboost-and-a-detailed-eda)\n",
    "\n",
    "\n",
    "*EDA*\n",
    "- Start with univariate analysis for SalePrice --> indicative price range if no information at all; skewness; main stats\n",
    "- Look at numeric variables with high correlation with SalePrice + corrmat\n",
    "  -- Explain meaning of numeric variables\n",
    "  -- For integer variables, e.g. Overall Quality, we can use box plots to discribe its relationship with target var. \n",
    "  -- For float variables, e.g. GrLivArea, we can use scatter plots + regression line. \n",
    "  -- Annotate potential outliers I(e.g. id) directly on the plot.\n",
    "  -- Outliers: double check values of other important variables before taking them out.\n",
    "\n",
    "*Missing data, label encoding, factorizing*\n",
    "- pool varivables into different groups\n",
    "- Important to understand if missing value means None or sampling mistake\n",
    "- Lable encode if there is clear ordinality in categorical variable\n",
    "- Find correlating variable to impute missing value\n",
    "- Check if NAs in different variables are from the same observations\n",
    "- Use barplot (with count) to assess ordinality.\n",
    "- If number of categories is too large, consider binning.\n",
    "- Changing some numeric variables into factors (e.g. Year, month)\n",
    "\n",
    "*Look for important variables after data cleaning*  \n",
    "- corrmat with clean data (for numeric variables)\n",
    "- Use a quick random forecast to see feature importance (use horizontal bar plot) --> pay attention to categorical --> shouldnot aggregate importance from encoded categorical variables\n",
    "\n",
    "*Feature engineering*\n",
    "- group features in the same category. Sum-of-parts can be a new feature.  \n",
    "- Check correlation between new feature and target var. Or use bar/count plot for categorical variable.\n",
    "- Binning categorical value, especially for extreme categories.\n",
    "\n",
    "*Data preparation for modeling* \n",
    "- Drop highly correlated variables\n",
    "- Remove outliers\n",
    "- Pre-processing\n",
    "    -- Check normality for 'true numeric' features; cut-off using skewness\n",
    "    -- Scale 'true numeric' features\n",
    "    -- one hot encoding\n",
    "    -- remove levels (categories) with few or no observations in train or test data set (use a cut-off ratio)\n",
    "- Deal with skewness of target variable\n",
    "\n",
    "\n",
    "*Modeling*\n",
    "- Lasso: GridSearch and check coef_ (zeros -> works even without normalization)\n",
    "- XGBOOST\n",
    "- Combine\n",
    "\n",
    "\n"
   ]
  },
  {
   "cell_type": "code",
   "execution_count": null,
   "metadata": {},
   "outputs": [],
   "source": []
  },
  {
   "cell_type": "code",
   "execution_count": null,
   "metadata": {},
   "outputs": [],
   "source": [
    "# Simple clustering\n",
    "\n",
    "features = quantitative + qual_encoded\n",
    "model = TSNE(n_components=2, random_state=0, perplexity=50)\n",
    "X = train[features].fillna(0.).values\n",
    "tsne = model.fit_transform(X)\n",
    "\n",
    "std = StandardScaler()\n",
    "s = std.fit_transform(X)\n",
    "pca = PCA(n_components=30)\n",
    "pca.fit(s)\n",
    "pc = pca.transform(s)\n",
    "kmeans = KMeans(n_clusters=5)\n",
    "kmeans.fit(pc)\n",
    "\n",
    "fr = pd.DataFrame({'tsne1': tsne[:,0], 'tsne2': tsne[:, 1], 'cluster': kmeans.labels_})\n",
    "sns.lmplot(data=fr, x='tsne1', y='tsne2', hue='cluster', fit_reg=False)\n",
    "print(np.sum(pca.explained_variance_ratio_))"
   ]
  }
 ],
 "metadata": {
  "kernelspec": {
   "display_name": "Python 3",
   "language": "python",
   "name": "python3"
  },
  "language_info": {
   "codemirror_mode": {
    "name": "ipython",
    "version": 3
   },
   "file_extension": ".py",
   "mimetype": "text/x-python",
   "name": "python",
   "nbconvert_exporter": "python",
   "pygments_lexer": "ipython3",
   "version": "3.6.6"
  }
 },
 "nbformat": 4,
 "nbformat_minor": 2
}
